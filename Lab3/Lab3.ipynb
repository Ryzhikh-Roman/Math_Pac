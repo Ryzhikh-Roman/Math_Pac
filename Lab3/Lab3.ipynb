{
 "cells": [
  {
   "cell_type": "markdown",
   "id": "5fd5fd28",
   "metadata": {},
   "source": [
    "# Лабораторная работа №3"
   ]
  },
  {
   "cell_type": "markdown",
   "id": "24fa900e",
   "metadata": {},
   "source": [
    "Выполнил студент гр. 9382 Рыжих Роман. Вариант 14."
   ]
  },
  {
   "cell_type": "markdown",
   "id": "cc811730",
   "metadata": {},
   "source": [
    "### Цель работы\n",
    "Практическое применение библиотеки символьных вычислений Python (SymPy) для решения задач дискретной математики и математической логики."
   ]
  },
  {
   "cell_type": "markdown",
   "id": "fe99e45f",
   "metadata": {},
   "source": [
    "### Задачи лабораторной работы\n",
    "\n",
    "1. Решить свой вариант диофантова уравнения.\n",
    "2. Имея открытую часть ключа RSA найти соответствующую закрытую часть и расшифровать кодированное слово.\n",
    "3. Записать в формате ДНФ и КНФ булеву функцию, заданную своим аналитическим выражением."
   ]
  },
  {
   "cell_type": "markdown",
   "id": "e5819b28",
   "metadata": {},
   "source": [
    "### Диофантово уравнение"
   ]
  },
  {
   "cell_type": "markdown",
   "id": "37022c66",
   "metadata": {},
   "source": [
    "Вариант 34. Диофантово уравнение: 1469x−1625y=91"
   ]
  },
  {
   "cell_type": "code",
   "execution_count": 2,
   "id": "941976e4",
   "metadata": {
    "scrolled": true
   },
   "outputs": [
    {
     "data": {
      "text/plain": [
       "{(125*t_0 + 364, 113*t_0 + 329)}"
      ]
     },
     "execution_count": 2,
     "metadata": {},
     "output_type": "execute_result"
    }
   ],
   "source": [
    "import sympy\n",
    "from sympy import sympify, symbols\n",
    "from sympy.solvers.diophantine import diophantine\n",
    "\n",
    "diophantine(sympify(\"1469*x - 1625*y - 91\"))"
   ]
  },
  {
   "cell_type": "markdown",
   "id": "c9623d48",
   "metadata": {},
   "source": [
    "### Имея открытую часть ключа RSA найти соответствующую закрытую часть и расшифровать кодированное слово."
   ]
  },
  {
   "cell_type": "markdown",
   "id": "2369d9d1",
   "metadata": {},
   "source": [
    "Вариант 34. Русское слово из четырех букв закодировано при помощи алгоритма RSA открытым ключом (e = 11,m = 33). Шифрованное сообщение имеет вид (8; 10; 20; 29). Подберите закрытую часть ключа и прочитайте исходное слово. Буквам русского алфавита соответсвуют числа в диапазоне от 2 до 32 (исключены буквы “e” и “ъ”)."
   ]
  },
  {
   "cell_type": "code",
   "execution_count": 20,
   "id": "e22f3086",
   "metadata": {},
   "outputs": [
    {
     "name": "stdout",
     "output_type": "stream",
     "text": [
      "Полученное слово -  жить\n"
     ]
    }
   ],
   "source": [
    "from sympy.crypto.crypto import decipher_rsa, rsa_public_key, rsa_private_key\n",
    "\n",
    "p, q, e = 3, 11, 11;\n",
    "private_key = rsa_private_key(p, q, e)\n",
    "\n",
    "alphabet = ['-', '-', 'а', 'б', 'в', 'г', 'д', 'е', 'ж', 'з', 'и', 'й', 'к', 'л', 'м', 'н', 'о',\n",
    "            'п', 'р', 'с', 'т','у', 'ф', 'х', 'ц', 'ч', 'ш', 'щ', 'ы', 'ь', 'э', 'ю', 'я']\n",
    "\n",
    "word = [8, 10, 20, 29]\n",
    "new_word = []\n",
    "for i in word:\n",
    "    new_word.append(alphabet[decipher_rsa(i, private_key)])\n",
    "\n",
    "new_word = ''.join([str(i) for i in new_word])\n",
    "print('Полученное слово - ',new_word)"
   ]
  },
  {
   "cell_type": "markdown",
   "id": "bb0a06fc",
   "metadata": {},
   "source": [
    "### Записать в формате ДНФ и КНФ булеву функцию, заданную аналитическим выражением."
   ]
  },
  {
   "cell_type": "markdown",
   "id": "976b15b4",
   "metadata": {},
   "source": [
    "Вариант 44. f(x, y, z) = (z ∨ (yz))((y xor x) ∨ (z xor x))"
   ]
  },
  {
   "cell_type": "code",
   "execution_count": 22,
   "id": "1bab0397",
   "metadata": {},
   "outputs": [
    {
     "name": "stdout",
     "output_type": "stream",
     "text": [
      "ДНФ -  (z & ~x) | (z & ~y)\n",
      "КНФ -  z & (~x | ~y)\n"
     ]
    }
   ],
   "source": [
    "expr = sympify(\"(z | (y & z)) & ((y ^ x) | (z ^ x))\", convert_xor=False)\n",
    "expr_minDNF = sympy.to_dnf(expr, simplify=True)\n",
    "expr_minCNF = sympy.to_cnf(expr, simplify=True)\n",
    "print(\"ДНФ - \", expr_minDNF)\n",
    "print(\"КНФ - \", expr_minCNF)"
   ]
  }
 ],
 "metadata": {
  "kernelspec": {
   "display_name": "Python 3 (ipykernel)",
   "language": "python",
   "name": "python3"
  },
  "language_info": {
   "codemirror_mode": {
    "name": "ipython",
    "version": 3
   },
   "file_extension": ".py",
   "mimetype": "text/x-python",
   "name": "python",
   "nbconvert_exporter": "python",
   "pygments_lexer": "ipython3",
   "version": "3.9.7"
  }
 },
 "nbformat": 4,
 "nbformat_minor": 5
}
